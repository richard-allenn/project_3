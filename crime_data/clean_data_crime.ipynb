{
 "cells": [
  {
   "attachments": {},
   "cell_type": "markdown",
   "metadata": {},
   "source": [
    "cleaning and organising crime data"
   ]
  },
  {
   "cell_type": "code",
   "execution_count": 4,
   "metadata": {},
   "outputs": [],
   "source": [
    "#imports\n",
    "import pandas as pd\n",
    "from datetime import datetime\n"
   ]
  },
  {
   "cell_type": "code",
   "execution_count": 5,
   "metadata": {},
   "outputs": [],
   "source": [
    "#import files to clean and combine\n",
    "Armadale_csv = \"input_data/armadale_crime_data.csv\"\n",
    "Cannington_csv = \"input_data/cannington_crime_data.csv\"\n",
    "Fremantle_csv = \"input_data/fremantle_crime_data.csv\"\n",
    "Joondalup_csv = \"input_data/Joondalup_crime_data.csv\"\n",
    "Mandurah_csv = \"input_data/mandurah_crime_data.csv\"\n",
    "Midland_csv = \"input_data/midland_crime_data.csv\"\n",
    "Mirrabooka_csv = \"input_data/mirrabooka_crime_data.csv\" \n",
    "Perth_csv = \"input_data/perth_crime_data.csv \"\n",
    "Southwest_csv = \"input_data/south_west_crime_data.csv\"\n",
    "\n",
    "Conor1_csv = \"input_data/Conor1_csv.csv\"\n",
    "\n"
   ]
  },
  {
   "cell_type": "code",
   "execution_count": 6,
   "metadata": {},
   "outputs": [],
   "source": [
    "#create dataframes\n",
    "Armadale_df = pd.read_csv(Armadale_csv)\n",
    "Cannington_df = pd.read_csv(Cannington_csv)\n",
    "Fremantle_df = pd.read_csv(Fremantle_csv)\n",
    "Joondalup_df = pd.read_csv(Joondalup_csv)\n",
    "Mandurah_df = pd.read_csv(Mandurah_csv)\n",
    "Midland_df = pd.read_csv(Midland_csv)\n",
    "Mirrabooka_df = pd.read_csv(Mirrabooka_csv)\n",
    "Perth_df = pd.read_csv(Perth_csv)\n",
    "Southwest_df = pd.read_csv(Southwest_csv)\n",
    "\n",
    "Conor1_df = pd.read_csv(Conor1_csv)"
   ]
  },
  {
   "cell_type": "code",
   "execution_count": 7,
   "metadata": {},
   "outputs": [],
   "source": [
    "#Armadale_df "
   ]
  },
  {
   "cell_type": "code",
   "execution_count": 8,
   "metadata": {},
   "outputs": [],
   "source": [
    "#Cannington_df.info()"
   ]
  },
  {
   "cell_type": "code",
   "execution_count": 9,
   "metadata": {},
   "outputs": [],
   "source": [
    "#Fremantle_df "
   ]
  },
  {
   "cell_type": "code",
   "execution_count": 10,
   "metadata": {},
   "outputs": [],
   "source": [
    "#Joondalup_df.info()"
   ]
  },
  {
   "cell_type": "code",
   "execution_count": 11,
   "metadata": {},
   "outputs": [],
   "source": [
    "#Mandurah_df.info()"
   ]
  },
  {
   "cell_type": "code",
   "execution_count": 12,
   "metadata": {},
   "outputs": [],
   "source": [
    "#Midland_df.info()"
   ]
  },
  {
   "cell_type": "code",
   "execution_count": 13,
   "metadata": {},
   "outputs": [],
   "source": [
    "#Mirrabooka_df.info()"
   ]
  },
  {
   "cell_type": "code",
   "execution_count": 14,
   "metadata": {},
   "outputs": [],
   "source": [
    "#Perth_df.info()"
   ]
  },
  {
   "cell_type": "code",
   "execution_count": 15,
   "metadata": {},
   "outputs": [],
   "source": [
    "#Armadale_df.tail()"
   ]
  },
  {
   "cell_type": "code",
   "execution_count": 16,
   "metadata": {},
   "outputs": [],
   "source": [
    "#Conor1_df.tail()"
   ]
  },
  {
   "cell_type": "code",
   "execution_count": 17,
   "metadata": {},
   "outputs": [],
   "source": [
    "# add district columns\n",
    "Armadale_df.insert(loc=0, column='district', value='Armadale')\n",
    "Cannington_df.insert(loc=0, column='district', value='Cannington')\n",
    "Fremantle_df.insert(loc=0, column='district', value='Fremantle')\n",
    "Joondalup_df.insert(loc=0, column='district', value='Joondalup')\n",
    "Mandurah_df.insert(loc=0, column='district', value='Mandurah')\n",
    "Midland_df.insert(loc=0, column='district', value='Midland')\n",
    "Mirrabooka_df.insert(loc=0, column='district', value='Mirrabooka')\n",
    "Perth_df.insert(loc=0, column='district', value='Perth')\n",
    "Southwest_df.insert(loc=0, column='district', value='South West')\n"
   ]
  },
  {
   "cell_type": "code",
   "execution_count": 18,
   "metadata": {},
   "outputs": [
    {
     "data": {
      "text/html": [
       "<div>\n",
       "<style scoped>\n",
       "    .dataframe tbody tr th:only-of-type {\n",
       "        vertical-align: middle;\n",
       "    }\n",
       "\n",
       "    .dataframe tbody tr th {\n",
       "        vertical-align: top;\n",
       "    }\n",
       "\n",
       "    .dataframe thead th {\n",
       "        text-align: right;\n",
       "    }\n",
       "</style>\n",
       "<table border=\"1\" class=\"dataframe\">\n",
       "  <thead>\n",
       "    <tr style=\"text-align: right;\">\n",
       "      <th></th>\n",
       "      <th>district</th>\n",
       "      <th>Month and Year</th>\n",
       "      <th>Homicide Total</th>\n",
       "      <th>Assault (Family) Total</th>\n",
       "      <th>Assault (Non-Family) Total</th>\n",
       "      <th>Stealing of Motor Vehicle</th>\n",
       "      <th>Stealing Total</th>\n",
       "      <th>Property Damage Total</th>\n",
       "      <th>Arson Total</th>\n",
       "      <th>Drug Offences Total</th>\n",
       "      <th>Regulated Weapons Offences</th>\n",
       "    </tr>\n",
       "  </thead>\n",
       "  <tbody>\n",
       "    <tr>\n",
       "      <th>0</th>\n",
       "      <td>Armadale</td>\n",
       "      <td>1/01/2007</td>\n",
       "      <td>0</td>\n",
       "      <td>73</td>\n",
       "      <td>68</td>\n",
       "      <td>73</td>\n",
       "      <td>582</td>\n",
       "      <td>306</td>\n",
       "      <td>10</td>\n",
       "      <td>90</td>\n",
       "      <td>9</td>\n",
       "    </tr>\n",
       "    <tr>\n",
       "      <th>1</th>\n",
       "      <td>Armadale</td>\n",
       "      <td>1/02/2007</td>\n",
       "      <td>0</td>\n",
       "      <td>55</td>\n",
       "      <td>61</td>\n",
       "      <td>72</td>\n",
       "      <td>568</td>\n",
       "      <td>260</td>\n",
       "      <td>9</td>\n",
       "      <td>102</td>\n",
       "      <td>14</td>\n",
       "    </tr>\n",
       "    <tr>\n",
       "      <th>2</th>\n",
       "      <td>Armadale</td>\n",
       "      <td>1/03/2007</td>\n",
       "      <td>1</td>\n",
       "      <td>62</td>\n",
       "      <td>77</td>\n",
       "      <td>71</td>\n",
       "      <td>601</td>\n",
       "      <td>268</td>\n",
       "      <td>13</td>\n",
       "      <td>86</td>\n",
       "      <td>13</td>\n",
       "    </tr>\n",
       "    <tr>\n",
       "      <th>3</th>\n",
       "      <td>Armadale</td>\n",
       "      <td>1/04/2007</td>\n",
       "      <td>0</td>\n",
       "      <td>42</td>\n",
       "      <td>88</td>\n",
       "      <td>46</td>\n",
       "      <td>500</td>\n",
       "      <td>245</td>\n",
       "      <td>12</td>\n",
       "      <td>144</td>\n",
       "      <td>5</td>\n",
       "    </tr>\n",
       "    <tr>\n",
       "      <th>4</th>\n",
       "      <td>Armadale</td>\n",
       "      <td>1/05/2007</td>\n",
       "      <td>0</td>\n",
       "      <td>40</td>\n",
       "      <td>86</td>\n",
       "      <td>50</td>\n",
       "      <td>592</td>\n",
       "      <td>253</td>\n",
       "      <td>6</td>\n",
       "      <td>138</td>\n",
       "      <td>22</td>\n",
       "    </tr>\n",
       "  </tbody>\n",
       "</table>\n",
       "</div>"
      ],
      "text/plain": [
       "   district Month and Year  Homicide Total  Assault (Family) Total  \\\n",
       "0  Armadale      1/01/2007               0                      73   \n",
       "1  Armadale      1/02/2007               0                      55   \n",
       "2  Armadale      1/03/2007               1                      62   \n",
       "3  Armadale      1/04/2007               0                      42   \n",
       "4  Armadale      1/05/2007               0                      40   \n",
       "\n",
       "   Assault (Non-Family) Total  Stealing of Motor Vehicle  Stealing Total  \\\n",
       "0                          68                         73             582   \n",
       "1                          61                         72             568   \n",
       "2                          77                         71             601   \n",
       "3                          88                         46             500   \n",
       "4                          86                         50             592   \n",
       "\n",
       "   Property Damage Total  Arson Total  Drug Offences Total  \\\n",
       "0                    306           10                   90   \n",
       "1                    260            9                  102   \n",
       "2                    268           13                   86   \n",
       "3                    245           12                  144   \n",
       "4                    253            6                  138   \n",
       "\n",
       "   Regulated Weapons Offences  \n",
       "0                           9  \n",
       "1                          14  \n",
       "2                          13  \n",
       "3                           5  \n",
       "4                          22  "
      ]
     },
     "execution_count": 18,
     "metadata": {},
     "output_type": "execute_result"
    }
   ],
   "source": [
    "#concatenate the dataframes\n",
    "\n",
    "combined_crime_df = pd.concat([Armadale_df,Cannington_df,Fremantle_df,Joondalup_df,Mandurah_df,Midland_df,Mirrabooka_df,Perth_df,Southwest_df])\n",
    "\n",
    "combined_crime_df.head()"
   ]
  },
  {
   "cell_type": "code",
   "execution_count": 19,
   "metadata": {},
   "outputs": [],
   "source": [
    "combined_crime_df = combined_crime_df.reset_index(drop=True)\n",
    "\n"
   ]
  },
  {
   "cell_type": "code",
   "execution_count": 20,
   "metadata": {},
   "outputs": [],
   "source": [
    "#export as csv\n",
    "\n",
    "combined_crime_df.to_csv(\"output_data/combined_crime_data.csv\", index=False)\n",
    "\n",
    "Conor1_df.to_csv(\"output_data/conor1_cleaned_data.csv\", index =False)"
   ]
  }
 ],
 "metadata": {
  "kernelspec": {
   "display_name": "PythonData",
   "language": "python",
   "name": "python3"
  },
  "language_info": {
   "codemirror_mode": {
    "name": "ipython",
    "version": 3
   },
   "file_extension": ".py",
   "mimetype": "text/x-python",
   "name": "python",
   "nbconvert_exporter": "python",
   "pygments_lexer": "ipython3",
   "version": "3.7.7"
  },
  "orig_nbformat": 4
 },
 "nbformat": 4,
 "nbformat_minor": 2
}
